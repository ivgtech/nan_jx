{
 "cells": [
  {
   "cell_type": "markdown",
   "metadata": {
    "id": "4Rh0P4V34wZm"
   },
   "source": [
    "# Pax Workshop\n",
    "## Inputs in Pax - eval\n",
    "\n",
    "This colab demonstrates how inputs in Pax work.\n"
   ]
  },
  {
   "cell_type": "code",
   "execution_count": null,
   "metadata": {
    "id": "mNJyBaezlI7O"
   },
   "outputs": [],
   "source": [
    "from praxis import base_input\n",
    "from praxis import base_hyperparams\n",
    "from paxml import seqio_input\n",
    "import numpy as np"
   ]
  },
  {
   "cell_type": "markdown",
   "metadata": {
    "id": "2PJLV0fSCsyM"
   },
   "source": [
    "Let's look at some eval data."
   ]
  },
  {
   "cell_type": "code",
   "execution_count": null,
   "metadata": {
    "id": "x2-q5_vhBByz"
   },
   "outputs": [],
   "source": [
    "import t5.data.mixtures\n",
    "p_eval = seqio_input.SeqIOInput.HParams(\n",
    "    mixture_name='super_glue_copa_v102',\n",
    "    split_name='validation',\n",
    "    task_feature_lengths={\n",
    "        'inputs': 256,\n",
    "        'targets': 32,\n",
    "    },\n",
    "    feature_converter=seqio_input.LanguageModelFeatures(pack=False),\n",
    "    batch_size=4,\n",
    "    infeed_host_index=1,\n",
    "    num_infeed_hosts=4,\n",
    "    is_training=False,\n",
    "    reset_for_eval=True)\n",
    "inp_eval = base_hyperparams.instantiate(p_eval)"
   ]
  },
  {
   "cell_type": "code",
   "execution_count": null,
   "metadata": {
    "id": "q0gj3RvcBoNU"
   },
   "outputs": [],
   "source": [
    "# The dataset is finite, and raises exception after being exhausted\n",
    "inp_eval.reset()\n",
    "for i in range(10):\n",
    "  try:\n",
    "    batch = inp_eval.get_next()\n",
    "  except StopIteration:\n",
    "    print(i, 'batches')\n",
    "    break"
   ]
  },
  {
   "cell_type": "markdown",
   "metadata": {
    "id": "he9Np05oCHD_"
   },
   "source": [
    "Try tweaking `infeed_host_index` above and verify that each host raises after the same number of batches. What happens if we change `num_infeed_hosts`? How does that change the number of batches it takes to exhaust the data?\n",
    "\n",
    "Also verify that `batch.eval_sample_weights` field is used to tell which examples are added as paddings."
   ]
  }
 ],
 "metadata": {
  "kernelspec": {
   "display_name": "Python 3 (ipykernel)",
   "language": "python",
   "name": "python3"
  },
  "language_info": {
   "codemirror_mode": {
    "name": "ipython",
    "version": 3
   },
   "file_extension": ".py",
   "mimetype": "text/x-python",
   "name": "python",
   "nbconvert_exporter": "python",
   "pygments_lexer": "ipython3",
   "version": "3.8.10"
  }
 },
 "nbformat": 4,
 "nbformat_minor": 1
}

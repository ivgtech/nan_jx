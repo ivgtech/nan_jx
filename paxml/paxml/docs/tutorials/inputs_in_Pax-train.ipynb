{
 "cells": [
  {
   "cell_type": "markdown",
   "metadata": {
    "id": "4Rh0P4V34wZm"
   },
   "source": [
    "# Pax Workshop\n",
    "## Inputs in Pax - training\n",
    "\n",
    "This colab demonstrates how inputs in Pax work.\n"
   ]
  },
  {
   "cell_type": "code",
   "execution_count": null,
   "metadata": {
    "id": "mNJyBaezlI7O"
   },
   "outputs": [],
   "source": [
    "from praxis import base_input\n",
    "from praxis import base_hyperparams\n",
    "from paxml import seqio_input\n",
    "import numpy as np"
   ]
  },
  {
   "cell_type": "markdown",
   "metadata": {
    "id": "sVtD2spKACvz"
   },
   "source": [
    "Let's start with a SeqIO input using the wsc training data."
   ]
  },
  {
   "cell_type": "code",
   "execution_count": null,
   "metadata": {
    "id": "frocGIyv5Kd-"
   },
   "outputs": [],
   "source": [
    "import t5.data.tasks\n",
    "p = seqio_input.SeqIOInput.HParams(\n",
    "    mixture_name='super_glue_wsc_v102_simple_train',\n",
    "    split_name='train',\n",
    "    task_feature_lengths={'targets': 1280},\n",
    "    feature_converter=seqio_input.LanguageModelFeatures(pack=True),\n",
    "    is_training=True,\n",
    "    use_cached=False,\n",
    "    input_random_seed=123,\n",
    "    batch_size=4)\n",
    "inp = base_hyperparams.instantiate(p)"
   ]
  },
  {
   "cell_type": "code",
   "execution_count": null,
   "metadata": {
    "id": "eKeVT2kelzoa"
   },
   "outputs": [],
   "source": [
    "# Get a batch, inspect the spec of the data\n",
    "batch = inp.get_next()\n",
    "for k, v in batch.FlattenItems():\n",
    "  print(k, v.shape, v.dtype)"
   ]
  },
  {
   "cell_type": "code",
   "execution_count": null,
   "metadata": {
    "id": "dGzr0xtq7AYF"
   },
   "outputs": [],
   "source": [
    "# The data is packed\n",
    "for _ in range(4):\n",
    "  batch = inp.get_next()\n",
    "  print('segments: ', np.max(batch.segment_ids, axis=1))\n"
   ]
  },
  {
   "cell_type": "markdown",
   "metadata": {
    "id": "Jq8trTrlDeXB"
   },
   "source": [
    "We set `input_random_seed=123` on the input hparams. What happens with `inp.reset()`? Does it reproduce the same data?\n",
    "\n",
    "What about if we re-instantiate the input object?"
   ]
  },
  {
   "cell_type": "code",
   "execution_count": null,
   "metadata": {
    "id": "v9dhcdqj74lY"
   },
   "outputs": [],
   "source": [
    "# Tweak some fields\n",
    "p2 = p.clone().set(infeed_host_index=0, num_infeed_hosts=2, shuffle=False)\n",
    "# disable packing\n",
    "p2.feature_converter = seqio_input.LanguageModelFeatures(pack=False)\n",
    "inp2 = base_hyperparams.instantiate(p2)\n",
    "\n",
    "p2_complement = p2.clone().set(infeed_host_index=1)\n",
    "inp2_complement = base_hyperparams.instantiate(p2_complement)\n",
    "\n",
    "batches = [inp2.get_next(), inp2_complement.get_next()]"
   ]
  },
  {
   "cell_type": "code",
   "execution_count": null,
   "metadata": {
    "id": "CjPqIOz68lJm"
   },
   "outputs": [],
   "source": [
    "inp.ids_to_strings(batches[0].ids, [1280] * 4)"
   ]
  },
  {
   "cell_type": "markdown",
   "metadata": {
    "id": "G-5jh4P4CcPp"
   },
   "source": [
    "Now inspect the data from `inp2_complement`. Verify that it does not overlap with the data from `inp2`. Does this hold if we run more batches?"
   ]
  },
  {
   "cell_type": "code",
   "execution_count": null,
   "metadata": {
    "id": "8fbBkr64-2tA"
   },
   "outputs": [],
   "source": [
    "# The data is also no longer packed\n",
    "np.max(batches[0].segment_ids, axis=1)"
   ]
  }
 ],
 "metadata": {
  "kernelspec": {
   "display_name": "Python 3 (ipykernel)",
   "language": "python",
   "name": "python3"
  },
  "language_info": {
   "codemirror_mode": {
    "name": "ipython",
    "version": 3
   },
   "file_extension": ".py",
   "mimetype": "text/x-python",
   "name": "python",
   "nbconvert_exporter": "python",
   "pygments_lexer": "ipython3",
   "version": "3.8.10"
  }
 },
 "nbformat": 4,
 "nbformat_minor": 1
}
